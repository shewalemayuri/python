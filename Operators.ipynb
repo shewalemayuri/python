{
 "cells": [
  {
   "cell_type": "markdown",
   "id": "de3a6aa2",
   "metadata": {},
   "source": [
    "# Operators"
   ]
  },
  {
   "cell_type": "raw",
   "id": "ea1bfa52",
   "metadata": {},
   "source": [
    "1. Mathematical/Arithmetic\n",
    "2. Comparison/Relational\n",
    "3. Logical\n",
    "4. Assignment\n",
    "5. Bitwise\n",
    "6. Membership\n",
    "7. Identity"
   ]
  },
  {
   "cell_type": "markdown",
   "id": "3a4bcdac",
   "metadata": {},
   "source": [
    "Mathematical(+,-,*,/,//,%)\n"
   ]
  },
  {
   "cell_type": "code",
   "execution_count": 5,
   "id": "acfd360f",
   "metadata": {},
   "outputs": [],
   "source": [
    "a = 20\n",
    "b = 30"
   ]
  },
  {
   "cell_type": "code",
   "execution_count": 6,
   "id": "c4857359",
   "metadata": {},
   "outputs": [
    {
     "data": {
      "text/plain": [
       "50"
      ]
     },
     "execution_count": 6,
     "metadata": {},
     "output_type": "execute_result"
    }
   ],
   "source": [
    "a+b"
   ]
  },
  {
   "cell_type": "code",
   "execution_count": 7,
   "id": "e44bc704",
   "metadata": {},
   "outputs": [
    {
     "data": {
      "text/plain": [
       "-10"
      ]
     },
     "execution_count": 7,
     "metadata": {},
     "output_type": "execute_result"
    }
   ],
   "source": [
    "a-b"
   ]
  },
  {
   "cell_type": "code",
   "execution_count": 8,
   "id": "0260b90d",
   "metadata": {},
   "outputs": [
    {
     "data": {
      "text/plain": [
       "600"
      ]
     },
     "execution_count": 8,
     "metadata": {},
     "output_type": "execute_result"
    }
   ],
   "source": [
    "a*b"
   ]
  },
  {
   "cell_type": "code",
   "execution_count": 9,
   "id": "51f7e9e4",
   "metadata": {},
   "outputs": [
    {
     "data": {
      "text/plain": [
       "0.6666666666666666"
      ]
     },
     "execution_count": 9,
     "metadata": {},
     "output_type": "execute_result"
    }
   ],
   "source": [
    "a/b"
   ]
  },
  {
   "cell_type": "code",
   "execution_count": 10,
   "id": "8f3eaa52",
   "metadata": {},
   "outputs": [
    {
     "data": {
      "text/plain": [
       "0"
      ]
     },
     "execution_count": 10,
     "metadata": {},
     "output_type": "execute_result"
    }
   ],
   "source": [
    "a//b"
   ]
  },
  {
   "cell_type": "code",
   "execution_count": 11,
   "id": "ac8a073a",
   "metadata": {},
   "outputs": [
    {
     "data": {
      "text/plain": [
       "20"
      ]
     },
     "execution_count": 11,
     "metadata": {},
     "output_type": "execute_result"
    }
   ],
   "source": [
    "a%b"
   ]
  },
  {
   "cell_type": "code",
   "execution_count": 13,
   "id": "9c12f07f",
   "metadata": {},
   "outputs": [],
   "source": [
    "a =\"sam\"\n",
    "b =\"python\""
   ]
  },
  {
   "cell_type": "code",
   "execution_count": 14,
   "id": "94a0f25f",
   "metadata": {},
   "outputs": [],
   "source": [
    "a,b,c=\"java\",10,2.0"
   ]
  },
  {
   "cell_type": "code",
   "execution_count": 15,
   "id": "e6bc533d",
   "metadata": {},
   "outputs": [
    {
     "data": {
      "text/plain": [
       "'java'"
      ]
     },
     "execution_count": 15,
     "metadata": {},
     "output_type": "execute_result"
    }
   ],
   "source": [
    "a"
   ]
  },
  {
   "cell_type": "code",
   "execution_count": 16,
   "id": "0804da04",
   "metadata": {},
   "outputs": [
    {
     "data": {
      "text/plain": [
       "10"
      ]
     },
     "execution_count": 16,
     "metadata": {},
     "output_type": "execute_result"
    }
   ],
   "source": [
    "b"
   ]
  },
  {
   "cell_type": "code",
   "execution_count": 17,
   "id": "66b466c1",
   "metadata": {},
   "outputs": [
    {
     "data": {
      "text/plain": [
       "2.0"
      ]
     },
     "execution_count": 17,
     "metadata": {},
     "output_type": "execute_result"
    }
   ],
   "source": [
    "c"
   ]
  },
  {
   "cell_type": "markdown",
   "id": "df1956c5",
   "metadata": {},
   "source": [
    "Relational/Comparison(<,>,<=,>=,==,!=)\n"
   ]
  },
  {
   "cell_type": "code",
   "execution_count": 20,
   "id": "00de6086",
   "metadata": {},
   "outputs": [],
   "source": [
    "a =10\n",
    "b =20"
   ]
  },
  {
   "cell_type": "code",
   "execution_count": 21,
   "id": "c97d4eaf",
   "metadata": {},
   "outputs": [
    {
     "data": {
      "text/plain": [
       "True"
      ]
     },
     "execution_count": 21,
     "metadata": {},
     "output_type": "execute_result"
    }
   ],
   "source": [
    "a<b"
   ]
  },
  {
   "cell_type": "code",
   "execution_count": 22,
   "id": "5e4eb58d",
   "metadata": {},
   "outputs": [
    {
     "data": {
      "text/plain": [
       "False"
      ]
     },
     "execution_count": 22,
     "metadata": {},
     "output_type": "execute_result"
    }
   ],
   "source": [
    "a>b"
   ]
  },
  {
   "cell_type": "code",
   "execution_count": 23,
   "id": "1c23ed17",
   "metadata": {},
   "outputs": [
    {
     "data": {
      "text/plain": [
       "True"
      ]
     },
     "execution_count": 23,
     "metadata": {},
     "output_type": "execute_result"
    }
   ],
   "source": [
    "a<=b"
   ]
  },
  {
   "cell_type": "code",
   "execution_count": 24,
   "id": "45737b67",
   "metadata": {},
   "outputs": [
    {
     "data": {
      "text/plain": [
       "False"
      ]
     },
     "execution_count": 24,
     "metadata": {},
     "output_type": "execute_result"
    }
   ],
   "source": [
    "a>=b"
   ]
  },
  {
   "cell_type": "code",
   "execution_count": 25,
   "id": "5d1a6b17",
   "metadata": {},
   "outputs": [
    {
     "data": {
      "text/plain": [
       "True"
      ]
     },
     "execution_count": 25,
     "metadata": {},
     "output_type": "execute_result"
    }
   ],
   "source": [
    "a!=b"
   ]
  },
  {
   "cell_type": "code",
   "execution_count": 26,
   "id": "df08500c",
   "metadata": {},
   "outputs": [
    {
     "data": {
      "text/plain": [
       "False"
      ]
     },
     "execution_count": 26,
     "metadata": {},
     "output_type": "execute_result"
    }
   ],
   "source": [
    "a==b"
   ]
  },
  {
   "cell_type": "markdown",
   "id": "67996e1f",
   "metadata": {},
   "source": [
    "Logical(&,^,!)"
   ]
  },
  {
   "cell_type": "code",
   "execution_count": 28,
   "id": "f5574abe",
   "metadata": {},
   "outputs": [],
   "source": [
    "a= True\n",
    "b= False"
   ]
  },
  {
   "cell_type": "code",
   "execution_count": 29,
   "id": "ea5fd248",
   "metadata": {},
   "outputs": [
    {
     "data": {
      "text/plain": [
       "False"
      ]
     },
     "execution_count": 29,
     "metadata": {},
     "output_type": "execute_result"
    }
   ],
   "source": [
    "a&b"
   ]
  },
  {
   "cell_type": "code",
   "execution_count": 30,
   "id": "d0b180f4",
   "metadata": {},
   "outputs": [
    {
     "data": {
      "text/plain": [
       "True"
      ]
     },
     "execution_count": 30,
     "metadata": {},
     "output_type": "execute_result"
    }
   ],
   "source": [
    "a^b"
   ]
  },
  {
   "cell_type": "code",
   "execution_count": 34,
   "id": "f39e4bd8",
   "metadata": {},
   "outputs": [
    {
     "data": {
      "text/plain": [
       "False"
      ]
     },
     "execution_count": 34,
     "metadata": {},
     "output_type": "execute_result"
    }
   ],
   "source": [
    "not a"
   ]
  },
  {
   "cell_type": "markdown",
   "id": "97206c29",
   "metadata": {},
   "source": [
    "Assignment()"
   ]
  },
  {
   "cell_type": "code",
   "execution_count": 38,
   "id": "1ed5b912",
   "metadata": {
    "scrolled": true
   },
   "outputs": [
    {
     "data": {
      "text/plain": [
       "20"
      ]
     },
     "execution_count": 38,
     "metadata": {},
     "output_type": "execute_result"
    }
   ],
   "source": [
    "a=20\n",
    "a"
   ]
  },
  {
   "cell_type": "code",
   "execution_count": 39,
   "id": "50a82d8a",
   "metadata": {},
   "outputs": [
    {
     "data": {
      "text/plain": [
       "25"
      ]
     },
     "execution_count": 39,
     "metadata": {},
     "output_type": "execute_result"
    }
   ],
   "source": [
    "a=a+5\n",
    "a"
   ]
  },
  {
   "cell_type": "code",
   "execution_count": 40,
   "id": "bdd135a1",
   "metadata": {},
   "outputs": [
    {
     "data": {
      "text/plain": [
       "30"
      ]
     },
     "execution_count": 40,
     "metadata": {},
     "output_type": "execute_result"
    }
   ],
   "source": [
    "a+=5\n",
    "a"
   ]
  },
  {
   "cell_type": "markdown",
   "id": "ae7ebe3d",
   "metadata": {},
   "source": [
    "Bitwise(<<,>>)"
   ]
  },
  {
   "cell_type": "code",
   "execution_count": 41,
   "id": "0ebdac0f",
   "metadata": {},
   "outputs": [],
   "source": [
    "a=12"
   ]
  },
  {
   "cell_type": "code",
   "execution_count": 42,
   "id": "47057346",
   "metadata": {},
   "outputs": [
    {
     "data": {
      "text/plain": [
       "3"
      ]
     },
     "execution_count": 42,
     "metadata": {},
     "output_type": "execute_result"
    }
   ],
   "source": [
    "a>>2"
   ]
  },
  {
   "cell_type": "code",
   "execution_count": 43,
   "id": "4d722d15",
   "metadata": {},
   "outputs": [
    {
     "data": {
      "text/plain": [
       "48"
      ]
     },
     "execution_count": 43,
     "metadata": {},
     "output_type": "execute_result"
    }
   ],
   "source": [
    "a<<2"
   ]
  },
  {
   "cell_type": "markdown",
   "id": "e35c2634",
   "metadata": {},
   "source": [
    "Membership()"
   ]
  },
  {
   "cell_type": "code",
   "execution_count": 44,
   "id": "f5dcf2dd",
   "metadata": {},
   "outputs": [],
   "source": [
    "s=\"Mayuri\""
   ]
  },
  {
   "cell_type": "code",
   "execution_count": 46,
   "id": "7f29ea8f",
   "metadata": {},
   "outputs": [
    {
     "data": {
      "text/plain": [
       "False"
      ]
     },
     "execution_count": 46,
     "metadata": {},
     "output_type": "execute_result"
    }
   ],
   "source": [
    "\"yrm\" in s"
   ]
  },
  {
   "cell_type": "code",
   "execution_count": 47,
   "id": "6fe62219",
   "metadata": {},
   "outputs": [
    {
     "data": {
      "text/plain": [
       "False"
      ]
     },
     "execution_count": 47,
     "metadata": {},
     "output_type": "execute_result"
    }
   ],
   "source": [
    "\"yrM\" in s"
   ]
  },
  {
   "cell_type": "code",
   "execution_count": 48,
   "id": "4268a4be",
   "metadata": {},
   "outputs": [
    {
     "data": {
      "text/plain": [
       "True"
      ]
     },
     "execution_count": 48,
     "metadata": {},
     "output_type": "execute_result"
    }
   ],
   "source": [
    "\"a\" in s"
   ]
  },
  {
   "cell_type": "code",
   "execution_count": 49,
   "id": "91e0da56",
   "metadata": {},
   "outputs": [
    {
     "data": {
      "text/plain": [
       "True"
      ]
     },
     "execution_count": 49,
     "metadata": {},
     "output_type": "execute_result"
    }
   ],
   "source": [
    "\"ri\" in s"
   ]
  },
  {
   "cell_type": "code",
   "execution_count": 50,
   "id": "931c1dbb",
   "metadata": {},
   "outputs": [
    {
     "data": {
      "text/plain": [
       "True"
      ]
     },
     "execution_count": 50,
     "metadata": {},
     "output_type": "execute_result"
    }
   ],
   "source": [
    "\"yrm\" not in s "
   ]
  },
  {
   "cell_type": "markdown",
   "id": "ebf5e424",
   "metadata": {},
   "source": [
    "Identity"
   ]
  },
  {
   "cell_type": "code",
   "execution_count": 53,
   "id": "73bca9bc",
   "metadata": {},
   "outputs": [],
   "source": [
    "s=\"mayu\"\n",
    "s1=\"Mayu\""
   ]
  },
  {
   "cell_type": "code",
   "execution_count": 54,
   "id": "73111465",
   "metadata": {},
   "outputs": [
    {
     "data": {
      "text/plain": [
       "False"
      ]
     },
     "execution_count": 54,
     "metadata": {},
     "output_type": "execute_result"
    }
   ],
   "source": [
    "s is s1"
   ]
  },
  {
   "cell_type": "code",
   "execution_count": 55,
   "id": "3e75e3be",
   "metadata": {},
   "outputs": [
    {
     "name": "stdout",
     "output_type": "stream",
     "text": [
      "Enter your username :mayuri\n",
      "your username is: mayuri\n"
     ]
    }
   ],
   "source": [
    "user= input(\"Enter your username :\")\n",
    "print(\"your username is:\", user)"
   ]
  },
  {
   "cell_type": "code",
   "execution_count": 56,
   "id": "9e26ffca",
   "metadata": {},
   "outputs": [
    {
     "data": {
      "text/plain": [
       "str"
      ]
     },
     "execution_count": 56,
     "metadata": {},
     "output_type": "execute_result"
    }
   ],
   "source": [
    "type(user)"
   ]
  },
  {
   "cell_type": "code",
   "execution_count": 57,
   "id": "c3fa0aaf",
   "metadata": {},
   "outputs": [
    {
     "name": "stdout",
     "output_type": "stream",
     "text": [
      "Enter your age :20\n",
      "your age is: 20\n"
     ]
    }
   ],
   "source": [
    "age= input(\"Enter your age :\")\n",
    "print(\"your age is:\", age)"
   ]
  },
  {
   "cell_type": "markdown",
   "id": "e831134d",
   "metadata": {},
   "source": [
    "# Datatypes"
   ]
  },
  {
   "cell_type": "raw",
   "id": "65d40a4b",
   "metadata": {},
   "source": [
    "1. String\n",
    "2. Int\n",
    "3. Float\n",
    "4. Boolean\n",
    "5. Complex\n",
    "6. List\n",
    "7. Set\n",
    "8. Tuple\n",
    "9. Dict"
   ]
  },
  {
   "cell_type": "code",
   "execution_count": 2,
   "id": "6d4bb6c2",
   "metadata": {},
   "outputs": [],
   "source": [
    "c=6+7j"
   ]
  },
  {
   "cell_type": "code",
   "execution_count": 3,
   "id": "c8509852",
   "metadata": {},
   "outputs": [
    {
     "data": {
      "text/plain": [
       "complex"
      ]
     },
     "execution_count": 3,
     "metadata": {},
     "output_type": "execute_result"
    }
   ],
   "source": [
    "type(c)"
   ]
  },
  {
   "cell_type": "code",
   "execution_count": 4,
   "id": "f1c60cd9",
   "metadata": {},
   "outputs": [
    {
     "data": {
      "text/plain": [
       "7.0"
      ]
     },
     "execution_count": 4,
     "metadata": {},
     "output_type": "execute_result"
    }
   ],
   "source": [
    "c.imag"
   ]
  },
  {
   "cell_type": "code",
   "execution_count": 6,
   "id": "4acf1bea",
   "metadata": {},
   "outputs": [
    {
     "data": {
      "text/plain": [
       "6.0"
      ]
     },
     "execution_count": 6,
     "metadata": {},
     "output_type": "execute_result"
    }
   ],
   "source": [
    "c.real"
   ]
  },
  {
   "cell_type": "code",
   "execution_count": 7,
   "id": "5eb99ee0",
   "metadata": {},
   "outputs": [],
   "source": [
    "l=[10,20,'python',10.5,True]"
   ]
  },
  {
   "cell_type": "code",
   "execution_count": 8,
   "id": "897d7da8",
   "metadata": {},
   "outputs": [
    {
     "data": {
      "text/plain": [
       "[10, 20, 'python', 10.5, True]"
      ]
     },
     "execution_count": 8,
     "metadata": {},
     "output_type": "execute_result"
    }
   ],
   "source": [
    "l"
   ]
  },
  {
   "cell_type": "code",
   "execution_count": 9,
   "id": "2e8c6f33",
   "metadata": {},
   "outputs": [
    {
     "data": {
      "text/plain": [
       "list"
      ]
     },
     "execution_count": 9,
     "metadata": {},
     "output_type": "execute_result"
    }
   ],
   "source": [
    "type(l)"
   ]
  },
  {
   "cell_type": "code",
   "execution_count": 10,
   "id": "ae531686",
   "metadata": {},
   "outputs": [],
   "source": [
    "s={10,20,'python',10.5,True}"
   ]
  },
  {
   "cell_type": "code",
   "execution_count": 11,
   "id": "cb7fc021",
   "metadata": {},
   "outputs": [
    {
     "data": {
      "text/plain": [
       "{10, 10.5, 20, True, 'python'}"
      ]
     },
     "execution_count": 11,
     "metadata": {},
     "output_type": "execute_result"
    }
   ],
   "source": [
    "s"
   ]
  },
  {
   "cell_type": "code",
   "execution_count": 12,
   "id": "2dd03c69",
   "metadata": {},
   "outputs": [
    {
     "data": {
      "text/plain": [
       "set"
      ]
     },
     "execution_count": 12,
     "metadata": {},
     "output_type": "execute_result"
    }
   ],
   "source": [
    "type(s)"
   ]
  },
  {
   "cell_type": "code",
   "execution_count": 13,
   "id": "c078f42c",
   "metadata": {},
   "outputs": [],
   "source": [
    "t=(10,20,'python',10.5,True)"
   ]
  },
  {
   "cell_type": "code",
   "execution_count": 14,
   "id": "265dac26",
   "metadata": {},
   "outputs": [
    {
     "data": {
      "text/plain": [
       "(10, 20, 'python', 10.5, True)"
      ]
     },
     "execution_count": 14,
     "metadata": {},
     "output_type": "execute_result"
    }
   ],
   "source": [
    "t"
   ]
  },
  {
   "cell_type": "code",
   "execution_count": 15,
   "id": "5ca2ceee",
   "metadata": {},
   "outputs": [
    {
     "data": {
      "text/plain": [
       "tuple"
      ]
     },
     "execution_count": 15,
     "metadata": {},
     "output_type": "execute_result"
    }
   ],
   "source": [
    "type(t)"
   ]
  },
  {
   "cell_type": "code",
   "execution_count": 16,
   "id": "fd5a2f9c",
   "metadata": {},
   "outputs": [],
   "source": [
    "d={'key':'value','name':'sam','age':'20','gmail':'sam@gmail.com'}"
   ]
  },
  {
   "cell_type": "code",
   "execution_count": 17,
   "id": "0691ac36",
   "metadata": {},
   "outputs": [
    {
     "data": {
      "text/plain": [
       "{'key': 'value', 'name': 'sam', 'age': '20', 'gmail': 'sam@gmail.com'}"
      ]
     },
     "execution_count": 17,
     "metadata": {},
     "output_type": "execute_result"
    }
   ],
   "source": [
    "d"
   ]
  },
  {
   "cell_type": "code",
   "execution_count": 18,
   "id": "15131f35",
   "metadata": {},
   "outputs": [
    {
     "data": {
      "text/plain": [
       "dict"
      ]
     },
     "execution_count": 18,
     "metadata": {},
     "output_type": "execute_result"
    }
   ],
   "source": [
    "type(d)"
   ]
  },
  {
   "cell_type": "markdown",
   "id": "f7e0b7ce",
   "metadata": {},
   "source": [
    "str(),int(),float(),set(),list(),tuple(),dict()"
   ]
  },
  {
   "cell_type": "code",
   "execution_count": 22,
   "id": "8f78b35e",
   "metadata": {},
   "outputs": [
    {
     "data": {
      "text/plain": [
       "'python'"
      ]
     },
     "execution_count": 22,
     "metadata": {},
     "output_type": "execute_result"
    }
   ],
   "source": [
    "a='python'\n",
    "str(a)"
   ]
  },
  {
   "cell_type": "code",
   "execution_count": 23,
   "id": "c06941eb",
   "metadata": {},
   "outputs": [
    {
     "data": {
      "text/plain": [
       "(10, 20, 'python', 10.5, True)"
      ]
     },
     "execution_count": 23,
     "metadata": {},
     "output_type": "execute_result"
    }
   ],
   "source": [
    "t"
   ]
  },
  {
   "cell_type": "code",
   "execution_count": 24,
   "id": "80a65d81",
   "metadata": {},
   "outputs": [
    {
     "ename": "TypeError",
     "evalue": "cannot convert dictionary update sequence element #0 to a sequence",
     "output_type": "error",
     "traceback": [
      "\u001b[1;31m---------------------------------------------------------------------------\u001b[0m",
      "\u001b[1;31mTypeError\u001b[0m                                 Traceback (most recent call last)",
      "Input \u001b[1;32mIn [24]\u001b[0m, in \u001b[0;36m<cell line: 1>\u001b[1;34m()\u001b[0m\n\u001b[1;32m----> 1\u001b[0m \u001b[38;5;28;43mdict\u001b[39;49m\u001b[43m(\u001b[49m\u001b[43mt\u001b[49m\u001b[43m)\u001b[49m\n",
      "\u001b[1;31mTypeError\u001b[0m: cannot convert dictionary update sequence element #0 to a sequence"
     ]
    }
   ],
   "source": [
    "dict(t)"
   ]
  },
  {
   "cell_type": "code",
   "execution_count": 25,
   "id": "b279f83b",
   "metadata": {},
   "outputs": [
    {
     "data": {
      "text/plain": [
       "{'key': 'value', 'name': 'sam', 'age': '20', 'gmail': 'sam@gmail.com'}"
      ]
     },
     "execution_count": 25,
     "metadata": {},
     "output_type": "execute_result"
    }
   ],
   "source": [
    "d"
   ]
  },
  {
   "cell_type": "code",
   "execution_count": 26,
   "id": "6c255463",
   "metadata": {},
   "outputs": [
    {
     "data": {
      "text/plain": [
       "['key', 'name', 'age', 'gmail']"
      ]
     },
     "execution_count": 26,
     "metadata": {},
     "output_type": "execute_result"
    }
   ],
   "source": [
    "list(d)"
   ]
  },
  {
   "cell_type": "code",
   "execution_count": null,
   "id": "1bed1737",
   "metadata": {},
   "outputs": [],
   "source": []
  }
 ],
 "metadata": {
  "kernelspec": {
   "display_name": "Python 3 (ipykernel)",
   "language": "python",
   "name": "python3"
  },
  "language_info": {
   "codemirror_mode": {
    "name": "ipython",
    "version": 3
   },
   "file_extension": ".py",
   "mimetype": "text/x-python",
   "name": "python",
   "nbconvert_exporter": "python",
   "pygments_lexer": "ipython3",
   "version": "3.9.12"
  }
 },
 "nbformat": 4,
 "nbformat_minor": 5
}
