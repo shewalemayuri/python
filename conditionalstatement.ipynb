{
 "cells": [
  {
   "cell_type": "markdown",
   "id": "f64ca686",
   "metadata": {},
   "source": [
    "# conditional statements"
   ]
  },
  {
   "cell_type": "raw",
   "id": "68e46d0b",
   "metadata": {},
   "source": [
    "conditions:\n",
    "    if,if else,if elif elif else"
   ]
  },
  {
   "cell_type": "raw",
   "id": "03eaaec6",
   "metadata": {},
   "source": [
    "loops & transfers:\n",
    "    for loop or while loop"
   ]
  },
  {
   "cell_type": "raw",
   "id": "a37bb463",
   "metadata": {},
   "source": [
    "if condition:\n",
    "    execution"
   ]
  },
  {
   "cell_type": "code",
   "execution_count": 9,
   "id": "88ef0b70",
   "metadata": {},
   "outputs": [],
   "source": [
    "n=20 #(if the number is positive)"
   ]
  },
  {
   "cell_type": "code",
   "execution_count": 3,
   "id": "20688f84",
   "metadata": {},
   "outputs": [
    {
     "name": "stdout",
     "output_type": "stream",
     "text": [
      "the number is positive\n"
     ]
    }
   ],
   "source": [
    "if n>0:\n",
    "    print(\"the number is positive\")"
   ]
  },
  {
   "cell_type": "code",
   "execution_count": 11,
   "id": "ad5f4ab2",
   "metadata": {},
   "outputs": [
    {
     "name": "stdout",
     "output_type": "stream",
     "text": [
      "the number is negative\n"
     ]
    }
   ],
   "source": [
    "n=-20\n",
    "\n",
    "if n>0:\n",
    "    print(\"the number is positive\")\n",
    "else:\n",
    "    print(\"the number is negative\")"
   ]
  },
  {
   "cell_type": "code",
   "execution_count": 12,
   "id": "8b8a553f",
   "metadata": {},
   "outputs": [
    {
     "name": "stdout",
     "output_type": "stream",
     "text": [
      "the number is zero\n"
     ]
    }
   ],
   "source": [
    "n=0\n",
    "\n",
    "if n>0:\n",
    "    print(\"the number is positive\")\n",
    "elif n==0:\n",
    "    print(\"the number is zero\")\n",
    "else:\n",
    "    print(\"the number is negative\")"
   ]
  },
  {
   "cell_type": "code",
   "execution_count": 13,
   "id": "56b9da01",
   "metadata": {},
   "outputs": [],
   "source": [
    "#odd even example"
   ]
  },
  {
   "cell_type": "code",
   "execution_count": 14,
   "id": "3cd268bd",
   "metadata": {},
   "outputs": [
    {
     "name": "stdout",
     "output_type": "stream",
     "text": [
      "the number is odd\n"
     ]
    }
   ],
   "source": [
    "n=27\n",
    "\n",
    "if n%2 ==0:\n",
    "    print(\"the number is even\")\n",
    "else:\n",
    "    print(\"the number is odd\")"
   ]
  },
  {
   "cell_type": "code",
   "execution_count": 15,
   "id": "c274e162",
   "metadata": {},
   "outputs": [
    {
     "name": "stdout",
     "output_type": "stream",
     "text": [
      "the number is positive\n"
     ]
    }
   ],
   "source": [
    "n=1\n",
    "if n>=0:\n",
    "    if n==0:\n",
    "        print(\"the number is zero\")\n",
    "    else:\n",
    "        print(\"the number is positive\")\n",
    "else:\n",
    "    print(\"the number is negative\")"
   ]
  },
  {
   "cell_type": "code",
   "execution_count": 16,
   "id": "62878c36",
   "metadata": {},
   "outputs": [
    {
     "name": "stdout",
     "output_type": "stream",
     "text": [
      "B is greater\n"
     ]
    }
   ],
   "source": [
    "a=10\n",
    "b=20\n",
    "if a>b:\n",
    "    print(\"A is greater\")\n",
    "else:\n",
    "    print(\"B is greater\")"
   ]
  },
  {
   "cell_type": "code",
   "execution_count": 17,
   "id": "a7bbc097",
   "metadata": {},
   "outputs": [
    {
     "name": "stdout",
     "output_type": "stream",
     "text": [
      "B is greater\n"
     ]
    }
   ],
   "source": [
    "print(\"A is greater\") if a>b else print(\"B is greater\")"
   ]
  },
  {
   "cell_type": "code",
   "execution_count": 19,
   "id": "515788e3",
   "metadata": {},
   "outputs": [],
   "source": [
    "if a>b: print(\"A is greater\")"
   ]
  },
  {
   "cell_type": "code",
   "execution_count": 21,
   "id": "ce2bac1c",
   "metadata": {},
   "outputs": [],
   "source": [
    "a=0\n",
    "b=20\n",
    "if a>b:\n",
    "    pass"
   ]
  },
  {
   "cell_type": "code",
   "execution_count": 22,
   "id": "fd8990a5",
   "metadata": {},
   "outputs": [
    {
     "name": "stdout",
     "output_type": "stream",
     "text": [
      "number is greater than 10\n",
      "number is greater than 20\n",
      "number is greater than 30\n",
      "number is greater than 30 but not 40\n"
     ]
    }
   ],
   "source": [
    "x=31\n",
    "if x>10:\n",
    "    print(\"number is greater than 10\")\n",
    "    if x>20:\n",
    "        print(\"number is greater than 20\")\n",
    "        if x>30:\n",
    "            print(\"number is greater than 30\")\n",
    "            if x>40:\n",
    "                print(\"number is greater than 40\")\n",
    "            else:\n",
    "                print(\"number is greater than 30 but not 40\")\n",
    "        else:\n",
    "            print(\"number is greater than 20 but not 30\")\n",
    "    else:\n",
    "          print(\"number is greater than 10 but not 20\")\n",
    "else:\n",
    "    (\"number not valid for verification\")"
   ]
  },
  {
   "cell_type": "code",
   "execution_count": 25,
   "id": "4beaf15d",
   "metadata": {},
   "outputs": [
    {
     "name": "stdout",
     "output_type": "stream",
     "text": [
      "enter your marks:20\n",
      "try next time\n"
     ]
    }
   ],
   "source": [
    "marks=float(input(\"enter your marks:\"))\n",
    "\n",
    "if marks>90:\n",
    "    print(\"A\")\n",
    "elif marks<=90 and marks >70:\n",
    "    print(\"B\")\n",
    "elif marks<=80 and marks >50:\n",
    "    print(\"C\")\n",
    "elif marks<=70 and marks >66:\n",
    "    print(\"D\")\n",
    "elif marks<=50:\n",
    "    print(\"try next time\")\n"
   ]
  },
  {
   "cell_type": "code",
   "execution_count": 26,
   "id": "7805dce9",
   "metadata": {},
   "outputs": [
    {
     "name": "stdout",
     "output_type": "stream",
     "text": [
      "Enter your username:abc\n",
      "invalid username\n"
     ]
    }
   ],
   "source": [
    "username=input(\"Enter your username:\")\n",
    "\n",
    "if username==\"Sam\" or username==\"sam\":\n",
    "    print(\"Account verified\")\n",
    "else:\n",
    "    print(\"invalid username\")"
   ]
  },
  {
   "cell_type": "code",
   "execution_count": 28,
   "id": "e14cd76b",
   "metadata": {},
   "outputs": [
    {
     "name": "stdout",
     "output_type": "stream",
     "text": [
      "numbers are valid\n"
     ]
    }
   ],
   "source": [
    "a=10\n",
    "b=11\n",
    "c=12\n",
    "d=13\n",
    "if a==9 or b==11 and c==12 and d==13:\n",
    "    print(\"numbers are valid\")"
   ]
  },
  {
   "cell_type": "raw",
   "id": "fec5fb08",
   "metadata": {},
   "source": [
    "For Loop"
   ]
  },
  {
   "cell_type": "raw",
   "id": "560b40c0",
   "metadata": {},
   "source": [
    "for items in collection:\n",
    "    execution"
   ]
  },
  {
   "cell_type": "code",
   "execution_count": 30,
   "id": "5fdd2f26",
   "metadata": {},
   "outputs": [
    {
     "name": "stdout",
     "output_type": "stream",
     "text": [
      "10\n",
      "20\n",
      "30\n",
      "40\n",
      "50\n",
      "60\n"
     ]
    }
   ],
   "source": [
    "l=[10,20,30,40,50,60]\n",
    "for i in l:\n",
    "    print(i)"
   ]
  },
  {
   "cell_type": "code",
   "execution_count": 31,
   "id": "afad46bd",
   "metadata": {},
   "outputs": [
    {
     "name": "stdout",
     "output_type": "stream",
     "text": [
      "10\n",
      "20\n",
      "30\n",
      "40\n",
      "mayuis a string\n",
      "20.3\n"
     ]
    }
   ],
   "source": [
    "s=[10,20,30,40,'mayu',20.30]\n",
    "for i in s:\n",
    "    if type(i)==int or type(i)==float:\n",
    "        print(i)\n",
    "    elif type(i)==str:\n",
    "        print(i +\"is a string\")"
   ]
  },
  {
   "cell_type": "code",
   "execution_count": null,
   "id": "7845dfc2",
   "metadata": {},
   "outputs": [],
   "source": []
  }
 ],
 "metadata": {
  "kernelspec": {
   "display_name": "Python 3 (ipykernel)",
   "language": "python",
   "name": "python3"
  },
  "language_info": {
   "codemirror_mode": {
    "name": "ipython",
    "version": 3
   },
   "file_extension": ".py",
   "mimetype": "text/x-python",
   "name": "python",
   "nbconvert_exporter": "python",
   "pygments_lexer": "ipython3",
   "version": "3.9.12"
  }
 },
 "nbformat": 4,
 "nbformat_minor": 5
}
