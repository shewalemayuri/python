{
 "cells": [
  {
   "cell_type": "markdown",
   "id": "ca5bde4a",
   "metadata": {},
   "source": [
    "# Function"
   ]
  },
  {
   "cell_type": "code",
   "execution_count": 1,
   "id": "4f1e14cb",
   "metadata": {},
   "outputs": [],
   "source": [
    "expense=0"
   ]
  },
  {
   "cell_type": "code",
   "execution_count": 8,
   "id": "c28129a7",
   "metadata": {},
   "outputs": [],
   "source": [
    "sam=[1500,2000,5000,4500]\n",
    "expense=0\n",
    "\n",
    "for i in sam:\n",
    "    expense +=i"
   ]
  },
  {
   "cell_type": "code",
   "execution_count": 9,
   "id": "cee3563a",
   "metadata": {},
   "outputs": [
    {
     "data": {
      "text/plain": [
       "13000"
      ]
     },
     "execution_count": 9,
     "metadata": {},
     "output_type": "execute_result"
    }
   ],
   "source": [
    "expense"
   ]
  },
  {
   "cell_type": "code",
   "execution_count": 10,
   "id": "64a28ebb",
   "metadata": {},
   "outputs": [],
   "source": [
    "mayuri=[4400,4000,5500]\n",
    "expense=0\n",
    "\n",
    "for i in mayuri:\n",
    "    expense += i"
   ]
  },
  {
   "cell_type": "code",
   "execution_count": 11,
   "id": "1cc97817",
   "metadata": {},
   "outputs": [
    {
     "data": {
      "text/plain": [
       "13900"
      ]
     },
     "execution_count": 11,
     "metadata": {},
     "output_type": "execute_result"
    }
   ],
   "source": [
    "expense"
   ]
  },
  {
   "cell_type": "raw",
   "id": "3a6a2973",
   "metadata": {},
   "source": [
    "function defination\n",
    "function execution\n",
    "function calling"
   ]
  },
  {
   "cell_type": "code",
   "execution_count": 16,
   "id": "898b67ef",
   "metadata": {},
   "outputs": [],
   "source": [
    "def add(name):\n",
    "    expense=0\n",
    "    for i in name:\n",
    "        expense += i\n",
    "    print(expense)\n",
    "    print(max(name))\n",
    "    "
   ]
  },
  {
   "cell_type": "code",
   "execution_count": 17,
   "id": "0e5ff5c0",
   "metadata": {},
   "outputs": [
    {
     "name": "stdout",
     "output_type": "stream",
     "text": [
      "13000\n",
      "5000\n"
     ]
    }
   ],
   "source": [
    "add(sam)"
   ]
  },
  {
   "cell_type": "code",
   "execution_count": 29,
   "id": "0ff87bb0",
   "metadata": {},
   "outputs": [],
   "source": [
    "akash=[1500,5000,4500,3000,1000,155000,4545]\n",
    "expense=0\n",
    "\n",
    "for i in akash:\n",
    "    expense += i"
   ]
  },
  {
   "cell_type": "code",
   "execution_count": 31,
   "id": "85b21cdf",
   "metadata": {},
   "outputs": [
    {
     "name": "stdout",
     "output_type": "stream",
     "text": [
      "350590\n",
      "355590\n",
      "360090\n",
      "363090\n",
      "364090\n",
      "519090\n",
      "523635\n"
     ]
    }
   ],
   "source": [
    "def add(name):\n",
    "    expense=0\n",
    "\n",
    "for i in akash:\n",
    "    expense += i\n",
    "    print(expense)\n",
    "   "
   ]
  },
  {
   "cell_type": "code",
   "execution_count": 37,
   "id": "32168625",
   "metadata": {},
   "outputs": [],
   "source": [
    "def test(a=20,b=10):\n",
    "    print(a+b)"
   ]
  },
  {
   "cell_type": "code",
   "execution_count": 39,
   "id": "6c6bdf9b",
   "metadata": {},
   "outputs": [
    {
     "name": "stdout",
     "output_type": "stream",
     "text": [
      "140\n"
     ]
    }
   ],
   "source": [
    "test(50,90)"
   ]
  },
  {
   "cell_type": "code",
   "execution_count": 40,
   "id": "f0bf76e1",
   "metadata": {},
   "outputs": [],
   "source": [
    "def test1(a,b,c,d):\n",
    "    return a,b,c,d"
   ]
  },
  {
   "cell_type": "code",
   "execution_count": 41,
   "id": "58af701c",
   "metadata": {},
   "outputs": [
    {
     "data": {
      "text/plain": [
       "(1, 2, 3, 4)"
      ]
     },
     "execution_count": 41,
     "metadata": {},
     "output_type": "execute_result"
    }
   ],
   "source": [
    "test1(1,2,3,4)"
   ]
  },
  {
   "cell_type": "code",
   "execution_count": 2,
   "id": "99501495",
   "metadata": {},
   "outputs": [],
   "source": [
    "def test2(*a): #arguments *args **kwargs(keyword argument)\n",
    "    return a"
   ]
  },
  {
   "cell_type": "code",
   "execution_count": 3,
   "id": "486176bc",
   "metadata": {},
   "outputs": [
    {
     "data": {
      "text/plain": [
       "(1, 2, 3)"
      ]
     },
     "execution_count": 3,
     "metadata": {},
     "output_type": "execute_result"
    }
   ],
   "source": [
    "test2(1,2,3)"
   ]
  },
  {
   "cell_type": "code",
   "execution_count": 4,
   "id": "6e8a3c4a",
   "metadata": {},
   "outputs": [
    {
     "data": {
      "text/plain": [
       "()"
      ]
     },
     "execution_count": 4,
     "metadata": {},
     "output_type": "execute_result"
    }
   ],
   "source": [
    "test2()"
   ]
  },
  {
   "cell_type": "code",
   "execution_count": 1,
   "id": "58748f63",
   "metadata": {},
   "outputs": [],
   "source": [
    "l1=[1,2,3,4,5,6,87,8,9]"
   ]
  },
  {
   "cell_type": "code",
   "execution_count": 11,
   "id": "2d45869e",
   "metadata": {},
   "outputs": [],
   "source": [
    "l3=[15,12,14,15]"
   ]
  },
  {
   "cell_type": "code",
   "execution_count": 12,
   "id": "29b6bdce",
   "metadata": {},
   "outputs": [],
   "source": [
    "def aa(*a):\n",
    "    for i in l3:\n",
    "        l1.append(i)\n",
    "        return l1"
   ]
  },
  {
   "cell_type": "code",
   "execution_count": 13,
   "id": "59fc7799",
   "metadata": {},
   "outputs": [
    {
     "data": {
      "text/plain": [
       "[1, 2, 3, 4, 5, 6, 87, 8, 9, 15, 15, 15]"
      ]
     },
     "execution_count": 13,
     "metadata": {},
     "output_type": "execute_result"
    }
   ],
   "source": [
    "aa(l3)"
   ]
  },
  {
   "cell_type": "code",
   "execution_count": 14,
   "id": "39384565",
   "metadata": {},
   "outputs": [],
   "source": [
    "def test1(*d,a,b,c):\n",
    "    return a,b,c,d"
   ]
  },
  {
   "cell_type": "code",
   "execution_count": 15,
   "id": "5bfc847b",
   "metadata": {},
   "outputs": [
    {
     "ename": "TypeError",
     "evalue": "test1() missing 3 required keyword-only arguments: 'a', 'b', and 'c'",
     "output_type": "error",
     "traceback": [
      "\u001b[1;31m---------------------------------------------------------------------------\u001b[0m",
      "\u001b[1;31mTypeError\u001b[0m                                 Traceback (most recent call last)",
      "Input \u001b[1;32mIn [15]\u001b[0m, in \u001b[0;36m<cell line: 1>\u001b[1;34m()\u001b[0m\n\u001b[1;32m----> 1\u001b[0m \u001b[43mtest1\u001b[49m\u001b[43m(\u001b[49m\u001b[38;5;241;43m1\u001b[39;49m\u001b[43m,\u001b[49m\u001b[43m \u001b[49m\u001b[38;5;241;43m2\u001b[39;49m\u001b[43m,\u001b[49m\u001b[43m \u001b[49m\u001b[38;5;241;43m3\u001b[39;49m\u001b[43m,\u001b[49m\u001b[43m \u001b[49m\u001b[38;5;241;43m4\u001b[39;49m\u001b[43m,\u001b[49m\u001b[43m \u001b[49m\u001b[38;5;241;43m5\u001b[39;49m\u001b[43m,\u001b[49m\u001b[43m \u001b[49m\u001b[38;5;241;43m6\u001b[39;49m\u001b[43m,\u001b[49m\u001b[43m \u001b[49m\u001b[38;5;241;43m87\u001b[39;49m\u001b[43m,\u001b[49m\u001b[43m \u001b[49m\u001b[38;5;241;43m8\u001b[39;49m\u001b[43m,\u001b[49m\u001b[43m \u001b[49m\u001b[38;5;241;43m9\u001b[39;49m\u001b[43m)\u001b[49m\n",
      "\u001b[1;31mTypeError\u001b[0m: test1() missing 3 required keyword-only arguments: 'a', 'b', and 'c'"
     ]
    }
   ],
   "source": [
    "test1(1, 2, 3, 4, 5, 6, 87, 8, 9)"
   ]
  },
  {
   "cell_type": "raw",
   "id": "71509142",
   "metadata": {},
   "source": [
    "Types of Functions\n",
    "1.Function without parameter\n",
    "2.Function with default parameter\n",
    "3.Function with parameter\n",
    "4.Function with return parameter"
   ]
  },
  {
   "cell_type": "code",
   "execution_count": 17,
   "id": "52451600",
   "metadata": {},
   "outputs": [
    {
     "name": "stdout",
     "output_type": "stream",
     "text": [
      "This is function without parameter\n"
     ]
    }
   ],
   "source": [
    "def display():\n",
    "    print(\"This is function without parameter\")\n",
    "display()"
   ]
  },
  {
   "cell_type": "code",
   "execution_count": 20,
   "id": "0f51f47d",
   "metadata": {},
   "outputs": [],
   "source": [
    "def test1(a=20,b=10):\n",
    "    '''this function is used to add two values'''\n",
    "    print(a+b)"
   ]
  },
  {
   "cell_type": "code",
   "execution_count": 18,
   "id": "42ce2deb",
   "metadata": {},
   "outputs": [
    {
     "name": "stdout",
     "output_type": "stream",
     "text": [
      "30\n"
     ]
    }
   ],
   "source": [
    "test1()"
   ]
  },
  {
   "cell_type": "code",
   "execution_count": 26,
   "id": "a155edb7",
   "metadata": {},
   "outputs": [],
   "source": [
    "def test2(a,b):\n",
    "    return a*b"
   ]
  },
  {
   "cell_type": "code",
   "execution_count": 24,
   "id": "ff3e36bb",
   "metadata": {},
   "outputs": [
    {
     "data": {
      "text/plain": [
       "500"
      ]
     },
     "execution_count": 24,
     "metadata": {},
     "output_type": "execute_result"
    }
   ],
   "source": [
    "test2(10,50)"
   ]
  },
  {
   "cell_type": "code",
   "execution_count": 28,
   "id": "83d4d254",
   "metadata": {},
   "outputs": [],
   "source": [
    "def test4(**mayu):\n",
    "    return mayu"
   ]
  },
  {
   "cell_type": "code",
   "execution_count": 29,
   "id": "33eaefd6",
   "metadata": {},
   "outputs": [
    {
     "data": {
      "text/plain": [
       "{'a': 10, 'b': 20, 'c': 30}"
      ]
     },
     "execution_count": 29,
     "metadata": {},
     "output_type": "execute_result"
    }
   ],
   "source": [
    "test4(a=10,b=20,c=30)"
   ]
  },
  {
   "cell_type": "code",
   "execution_count": 32,
   "id": "285128a2",
   "metadata": {},
   "outputs": [],
   "source": [
    "d={'a': 10, 'b': 20, 'c': 30}"
   ]
  },
  {
   "cell_type": "code",
   "execution_count": 33,
   "id": "6ecacbaf",
   "metadata": {},
   "outputs": [
    {
     "ename": "TypeError",
     "evalue": "test4() takes 0 positional arguments but 1 was given",
     "output_type": "error",
     "traceback": [
      "\u001b[1;31m---------------------------------------------------------------------------\u001b[0m",
      "\u001b[1;31mTypeError\u001b[0m                                 Traceback (most recent call last)",
      "Input \u001b[1;32mIn [33]\u001b[0m, in \u001b[0;36m<cell line: 1>\u001b[1;34m()\u001b[0m\n\u001b[1;32m----> 1\u001b[0m \u001b[43mtest4\u001b[49m\u001b[43m(\u001b[49m\u001b[43md\u001b[49m\u001b[43m)\u001b[49m\n",
      "\u001b[1;31mTypeError\u001b[0m: test4() takes 0 positional arguments but 1 was given"
     ]
    }
   ],
   "source": [
    "test4(d)"
   ]
  },
  {
   "cell_type": "code",
   "execution_count": 34,
   "id": "ac58002c",
   "metadata": {},
   "outputs": [
    {
     "data": {
      "text/plain": [
       "{}"
      ]
     },
     "execution_count": 34,
     "metadata": {},
     "output_type": "execute_result"
    }
   ],
   "source": [
    "test4()"
   ]
  },
  {
   "cell_type": "raw",
   "id": "0e4502d7",
   "metadata": {},
   "source": [
    "Local variable\\ Global variable"
   ]
  },
  {
   "cell_type": "code",
   "execution_count": 36,
   "id": "51ea891f",
   "metadata": {},
   "outputs": [],
   "source": [
    "def display():\n",
    "    a=10\n",
    "    print(\"value of a is:\",a)"
   ]
  },
  {
   "cell_type": "code",
   "execution_count": 37,
   "id": "ce3d99f4",
   "metadata": {},
   "outputs": [
    {
     "name": "stdout",
     "output_type": "stream",
     "text": [
      "value of a is: 10\n"
     ]
    }
   ],
   "source": [
    "display()"
   ]
  },
  {
   "cell_type": "code",
   "execution_count": 38,
   "id": "c571b800",
   "metadata": {},
   "outputs": [
    {
     "ename": "NameError",
     "evalue": "name 'a' is not defined",
     "output_type": "error",
     "traceback": [
      "\u001b[1;31m---------------------------------------------------------------------------\u001b[0m",
      "\u001b[1;31mNameError\u001b[0m                                 Traceback (most recent call last)",
      "Input \u001b[1;32mIn [38]\u001b[0m, in \u001b[0;36m<cell line: 1>\u001b[1;34m()\u001b[0m\n\u001b[1;32m----> 1\u001b[0m \u001b[38;5;28mprint\u001b[39m(\u001b[43ma\u001b[49m)\n",
      "\u001b[1;31mNameError\u001b[0m: name 'a' is not defined"
     ]
    }
   ],
   "source": [
    "print(a)"
   ]
  },
  {
   "cell_type": "code",
   "execution_count": 40,
   "id": "9930e88b",
   "metadata": {},
   "outputs": [
    {
     "name": "stdout",
     "output_type": "stream",
     "text": [
      "value of a is: 10\n"
     ]
    }
   ],
   "source": [
    "a=10\n",
    "def display():\n",
    "    print(\"value of a is:\",a)\n",
    "display()"
   ]
  },
  {
   "cell_type": "code",
   "execution_count": 41,
   "id": "2d308c90",
   "metadata": {},
   "outputs": [
    {
     "data": {
      "text/plain": [
       "20"
      ]
     },
     "execution_count": 41,
     "metadata": {},
     "output_type": "execute_result"
    }
   ],
   "source": [
    "a+10"
   ]
  },
  {
   "cell_type": "code",
   "execution_count": 2,
   "id": "1bc359d0",
   "metadata": {},
   "outputs": [
    {
     "name": "stdout",
     "output_type": "stream",
     "text": [
      "Enter a number for table:10\n",
      "10\n",
      "20\n",
      "30\n",
      "40\n",
      "50\n",
      "60\n",
      "70\n",
      "80\n",
      "90\n",
      "100\n"
     ]
    }
   ],
   "source": [
    "n=int(input(\"Enter a number for table:\"))\n",
    "def table(n):\n",
    "    for i in range(1,11):\n",
    "        print(n*i)\n",
    "table(n)"
   ]
  },
  {
   "cell_type": "code",
   "execution_count": 8,
   "id": "c72cd192",
   "metadata": {},
   "outputs": [
    {
     "name": "stdout",
     "output_type": "stream",
     "text": [
      "Enter a number for factorial:10\n"
     ]
    },
    {
     "data": {
      "text/plain": [
       "3628800"
      ]
     },
     "execution_count": 8,
     "metadata": {},
     "output_type": "execute_result"
    }
   ],
   "source": [
    "n=int(input(\"Enter a number for factorial:\"))\n",
    "def fact(n):\n",
    "    final=1\n",
    "    while n>1:\n",
    "        final*=n\n",
    "       # print(final)\n",
    "        n-=1\n",
    "    return final\n",
    "fact(n)"
   ]
  },
  {
   "cell_type": "code",
   "execution_count": 9,
   "id": "afa57f57",
   "metadata": {},
   "outputs": [
    {
     "name": "stdout",
     "output_type": "stream",
     "text": [
      "Enter a number for factorial:10\n",
      "1\n",
      "2\n",
      "6\n",
      "24\n",
      "120\n",
      "720\n",
      "5040\n",
      "40320\n",
      "362880\n",
      "3628800\n"
     ]
    }
   ],
   "source": [
    "n=int(input(\"Enter a number for factorial:\"))\n",
    "def fact(n):\n",
    "    final=1\n",
    "    while n>1:\n",
    "        final*=n\n",
    "        n-=1\n",
    "    return final\n",
    "\n",
    "for i in range(1,11):\n",
    "    print(fact(i))"
   ]
  },
  {
   "cell_type": "code",
   "execution_count": 10,
   "id": "94a7edd0",
   "metadata": {},
   "outputs": [
    {
     "data": {
      "text/plain": [
       "30"
      ]
     },
     "execution_count": 10,
     "metadata": {},
     "output_type": "execute_result"
    }
   ],
   "source": [
    "def add(a,b):\n",
    "    return a+b\n",
    "add(10,20)"
   ]
  },
  {
   "cell_type": "code",
   "execution_count": 11,
   "id": "182ac1ca",
   "metadata": {},
   "outputs": [
    {
     "data": {
      "text/plain": [
       "30"
      ]
     },
     "execution_count": 11,
     "metadata": {},
     "output_type": "execute_result"
    }
   ],
   "source": [
    "t=lambda a,b:a+b\n",
    "t(10,20)"
   ]
  },
  {
   "cell_type": "code",
   "execution_count": 12,
   "id": "e5e5f289",
   "metadata": {},
   "outputs": [
    {
     "data": {
      "text/plain": [
       "[1, 2, 3, 4, 5, 6]"
      ]
     },
     "execution_count": 12,
     "metadata": {},
     "output_type": "execute_result"
    }
   ],
   "source": [
    "t=(1,2,3,4,5,6)\n",
    "l=[]\n",
    "for i in t:\n",
    "    l.append(i)\n",
    "l"
   ]
  },
  {
   "cell_type": "code",
   "execution_count": 13,
   "id": "aba60864",
   "metadata": {},
   "outputs": [
    {
     "data": {
      "text/plain": [
       "[1, 2, 3, 4, 5, 6]"
      ]
     },
     "execution_count": 13,
     "metadata": {},
     "output_type": "execute_result"
    }
   ],
   "source": [
    "[i for i in t]"
   ]
  },
  {
   "cell_type": "code",
   "execution_count": 14,
   "id": "7ce14494",
   "metadata": {},
   "outputs": [
    {
     "data": {
      "text/plain": [
       "[2, 4, 6, 8, 10, 12]"
      ]
     },
     "execution_count": 14,
     "metadata": {},
     "output_type": "execute_result"
    }
   ],
   "source": [
    "[i*2 for i in t]"
   ]
  },
  {
   "cell_type": "code",
   "execution_count": 18,
   "id": "5dab5709",
   "metadata": {
    "scrolled": true
   },
   "outputs": [],
   "source": [
    "d={'key':'value','a':100,'b':200}"
   ]
  },
  {
   "cell_type": "code",
   "execution_count": 19,
   "id": "9bd9e4e7",
   "metadata": {},
   "outputs": [
    {
     "data": {
      "text/plain": [
       "['key', 'a', 'b']"
      ]
     },
     "execution_count": 19,
     "metadata": {},
     "output_type": "execute_result"
    }
   ],
   "source": [
    "[i for i in d]"
   ]
  },
  {
   "cell_type": "code",
   "execution_count": 20,
   "id": "22346ae8",
   "metadata": {},
   "outputs": [
    {
     "data": {
      "text/plain": [
       "['value', 100, 200]"
      ]
     },
     "execution_count": 20,
     "metadata": {},
     "output_type": "execute_result"
    }
   ],
   "source": [
    "[d[i] for i in d]"
   ]
  },
  {
   "cell_type": "code",
   "execution_count": 21,
   "id": "85073e94",
   "metadata": {},
   "outputs": [],
   "source": [
    "d={'key':'values','name':'sam','age':22,'skill':['python','java','ds']}"
   ]
  },
  {
   "cell_type": "code",
   "execution_count": 25,
   "id": "0300926b",
   "metadata": {},
   "outputs": [
    {
     "name": "stdout",
     "output_type": "stream",
     "text": [
      "{'key': 'values', 'name': 'sam', 'age': 22, 'skill': ['python', 'java', 'ds']}\n",
      "dict_values(['values', 'sam', 22, ['python', 'java', 'ds']])\n"
     ]
    }
   ],
   "source": [
    "def check(abc):\n",
    "    count=0\n",
    "    print(abc)\n",
    "    print(abc.values())\n",
    "check(d)"
   ]
  },
  {
   "cell_type": "code",
   "execution_count": 34,
   "id": "7159e4c9",
   "metadata": {},
   "outputs": [],
   "source": [
    "def check(abc):\n",
    "    strcount = 0\n",
    "    intcount = 0\n",
    "    print(abc)\n",
    "    print(abc.values())\n",
    "    for i in abc.values():\n",
    "        if type(i) == str:\n",
    "            s = str.upper(i)\n",
    "            print(s)\n",
    "            strcount += 1\n",
    "        if type(i) == list:\n",
    "            for j in i:\n",
    "                if type(j) == str:\n",
    "                    strcount += 1\n",
    "    return strcount"
   ]
  },
  {
   "cell_type": "code",
   "execution_count": 35,
   "id": "d986dab7",
   "metadata": {},
   "outputs": [
    {
     "name": "stdout",
     "output_type": "stream",
     "text": [
      "{'key': 'values', 'name': 'sam', 'age': 22, 'skill': ['python', 'java', 'ds']}\n",
      "dict_values(['values', 'sam', 22, ['python', 'java', 'ds']])\n",
      "VALUES\n",
      "SAM\n"
     ]
    },
    {
     "data": {
      "text/plain": [
       "5"
      ]
     },
     "execution_count": 35,
     "metadata": {},
     "output_type": "execute_result"
    }
   ],
   "source": [
    "check(d)"
   ]
  },
  {
   "cell_type": "code",
   "execution_count": null,
   "id": "690b71f4",
   "metadata": {},
   "outputs": [],
   "source": []
  }
 ],
 "metadata": {
  "kernelspec": {
   "display_name": "Python 3 (ipykernel)",
   "language": "python",
   "name": "python3"
  },
  "language_info": {
   "codemirror_mode": {
    "name": "ipython",
    "version": 3
   },
   "file_extension": ".py",
   "mimetype": "text/x-python",
   "name": "python",
   "nbconvert_exporter": "python",
   "pygments_lexer": "ipython3",
   "version": "3.9.12"
  }
 },
 "nbformat": 4,
 "nbformat_minor": 5
}
