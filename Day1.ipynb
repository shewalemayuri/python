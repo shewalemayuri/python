{
 "cells": [
  {
   "cell_type": "markdown",
   "id": "b58dee00",
   "metadata": {},
   "source": [
    "# Introduction to Python"
   ]
  },
  {
   "cell_type": "raw",
   "id": "2ef32641",
   "metadata": {},
   "source": [
    "Databtypes:\n",
    "    String\n",
    "    Integer\n",
    "    Float\n",
    "   "
   ]
  },
  {
   "cell_type": "raw",
   "id": "da3499d5",
   "metadata": {},
   "source": [
    "Variables:"
   ]
  },
  {
   "cell_type": "code",
   "execution_count": 4,
   "id": "f26af243",
   "metadata": {},
   "outputs": [
    {
     "data": {
      "text/plain": [
       "'learning python'"
      ]
     },
     "execution_count": 4,
     "metadata": {},
     "output_type": "execute_result"
    }
   ],
   "source": [
    "a=\"learning python\"\n",
    "a"
   ]
  },
  {
   "cell_type": "code",
   "execution_count": 5,
   "id": "6fe541ab",
   "metadata": {},
   "outputs": [
    {
     "data": {
      "text/plain": [
       "10"
      ]
     },
     "execution_count": 5,
     "metadata": {},
     "output_type": "execute_result"
    }
   ],
   "source": [
    "a=10\n",
    "a"
   ]
  },
  {
   "cell_type": "code",
   "execution_count": 6,
   "id": "ff91c2be",
   "metadata": {},
   "outputs": [
    {
     "data": {
      "text/plain": [
       "1.5"
      ]
     },
     "execution_count": 6,
     "metadata": {},
     "output_type": "execute_result"
    }
   ],
   "source": [
    "a=1.5\n",
    "a"
   ]
  },
  {
   "cell_type": "code",
   "execution_count": 7,
   "id": "9970be17",
   "metadata": {},
   "outputs": [],
   "source": [
    "test123=575"
   ]
  },
  {
   "cell_type": "code",
   "execution_count": 8,
   "id": "2ee694be",
   "metadata": {},
   "outputs": [],
   "source": [
    "_123=\"python\""
   ]
  },
  {
   "cell_type": "code",
   "execution_count": 9,
   "id": "7a420714",
   "metadata": {},
   "outputs": [
    {
     "ename": "SyntaxError",
     "evalue": "invalid syntax (3420973423.py, line 1)",
     "output_type": "error",
     "traceback": [
      "\u001b[1;36m  Input \u001b[1;32mIn [9]\u001b[1;36m\u001b[0m\n\u001b[1;33m    s!@#$%=\"abc\"\u001b[0m\n\u001b[1;37m     ^\u001b[0m\n\u001b[1;31mSyntaxError\u001b[0m\u001b[1;31m:\u001b[0m invalid syntax\n"
     ]
    }
   ],
   "source": [
    "s!@#$%=\"abc\""
   ]
  },
  {
   "cell_type": "code",
   "execution_count": 1,
   "id": "de2fbe4a",
   "metadata": {},
   "outputs": [],
   "source": [
    "a=\"learning python\""
   ]
  },
  {
   "cell_type": "code",
   "execution_count": 3,
   "id": "5373794b",
   "metadata": {},
   "outputs": [
    {
     "name": "stdout",
     "output_type": "stream",
     "text": [
      "<class 'str'>\n"
     ]
    }
   ],
   "source": [
    "try:\n",
    "    print(type(a))\n",
    "except Exception as e:\n",
    "    print(e)"
   ]
  },
  {
   "cell_type": "code",
   "execution_count": 14,
   "id": "9223bf03",
   "metadata": {
    "scrolled": true
   },
   "outputs": [
    {
     "ename": "NameError",
     "evalue": "name 'a1' is not defined",
     "output_type": "error",
     "traceback": [
      "\u001b[1;31m---------------------------------------------------------------------------\u001b[0m",
      "\u001b[1;31mNameError\u001b[0m                                 Traceback (most recent call last)",
      "Input \u001b[1;32mIn [14]\u001b[0m, in \u001b[0;36m<cell line: 7>\u001b[1;34m()\u001b[0m\n\u001b[0;32m      5\u001b[0m     \u001b[38;5;28;01mexcept\u001b[39;00m \u001b[38;5;167;01mException\u001b[39;00m \u001b[38;5;28;01mas\u001b[39;00m e:\n\u001b[0;32m      6\u001b[0m         \u001b[38;5;28mprint\u001b[39m(e)\n\u001b[1;32m----> 7\u001b[0m variable_type(\u001b[43ma1\u001b[49m)\n",
      "\u001b[1;31mNameError\u001b[0m: name 'a1' is not defined"
     ]
    }
   ],
   "source": [
    "def variable_type(s):\n",
    "    \"This function is used to check the variable data type\"\n",
    "    try:\n",
    "        print(type(s))\n",
    "    except Exception as e:\n",
    "        print(e)\n",
    "variable_type(a1)"
   ]
  },
  {
   "cell_type": "code",
   "execution_count": 1,
   "id": "a44a8751",
   "metadata": {},
   "outputs": [
    {
     "name": "stdout",
     "output_type": "stream",
     "text": [
      "name 'a1' is not defined\n"
     ]
    }
   ],
   "source": [
    "try:\n",
    "    def variable_type(s):\n",
    "        \"This function is used to check the variable data type\"\n",
    "        try:\n",
    "            print(type(s))\n",
    "        except Exception as e:\n",
    "            print(e)\n",
    "    variable_type(a1)\n",
    "except Exception as e:\n",
    "    print(e)"
   ]
  },
  {
   "cell_type": "code",
   "execution_count": 5,
   "id": "3db25cbb",
   "metadata": {},
   "outputs": [],
   "source": [
    "b=1.5"
   ]
  },
  {
   "cell_type": "code",
   "execution_count": 6,
   "id": "b3de4c2e",
   "metadata": {},
   "outputs": [
    {
     "data": {
      "text/plain": [
       "float"
      ]
     },
     "execution_count": 6,
     "metadata": {},
     "output_type": "execute_result"
    }
   ],
   "source": [
    "type(b)"
   ]
  },
  {
   "cell_type": "code",
   "execution_count": 7,
   "id": "9ca68fab",
   "metadata": {},
   "outputs": [
    {
     "name": "stdout",
     "output_type": "stream",
     "text": [
      "<class 'float'>\n"
     ]
    }
   ],
   "source": [
    "try:\n",
    "    print(type(b))\n",
    "except Exception as e:\n",
    "    print(e)"
   ]
  },
  {
   "cell_type": "code",
   "execution_count": 23,
   "id": "a9cabd88",
   "metadata": {},
   "outputs": [],
   "source": [
    "c=15"
   ]
  },
  {
   "cell_type": "code",
   "execution_count": 24,
   "id": "c756bd22",
   "metadata": {
    "scrolled": true
   },
   "outputs": [
    {
     "data": {
      "text/plain": [
       "int"
      ]
     },
     "execution_count": 24,
     "metadata": {},
     "output_type": "execute_result"
    }
   ],
   "source": [
    "type(c)"
   ]
  },
  {
   "cell_type": "code",
   "execution_count": 26,
   "id": "9c890416",
   "metadata": {},
   "outputs": [
    {
     "name": "stdout",
     "output_type": "stream",
     "text": [
      "name 'c1' is not defined\n"
     ]
    }
   ],
   "source": [
    "try:\n",
    "    def dtype_of_variable(a):\n",
    "        \"This function is used to check the data type of variable\"\n",
    "        try:\n",
    "            print(type(a))\n",
    "        except Exception as e:\n",
    "            print(e)\n",
    "    print(dtype_of_variable(c1))\n",
    "except Exception as e:\n",
    "    print(e)"
   ]
  },
  {
   "cell_type": "code",
   "execution_count": 11,
   "id": "68e0b86c",
   "metadata": {},
   "outputs": [
    {
     "name": "stdout",
     "output_type": "stream",
     "text": [
      "<class 'int'>\n"
     ]
    }
   ],
   "source": [
    "try:\n",
    "    print(type(c))\n",
    "except Exception as e:\n",
    "    print(e)"
   ]
  },
  {
   "cell_type": "code",
   "execution_count": null,
   "id": "3f40d987",
   "metadata": {},
   "outputs": [],
   "source": [
    "#htry\n",
    "#yhy"
   ]
  },
  {
   "cell_type": "code",
   "execution_count": null,
   "id": "931d64c9",
   "metadata": {},
   "outputs": [],
   "source": [
    "#shortcut to comment is ctrl+/\n",
    "\n",
    "# fgt\n",
    "# grt\n",
    "# rgtr\n",
    "# ed3q\n",
    "# wederf\n",
    "# wff3"
   ]
  }
 ],
 "metadata": {
  "kernelspec": {
   "display_name": "Python 3 (ipykernel)",
   "language": "python",
   "name": "python3"
  },
  "language_info": {
   "codemirror_mode": {
    "name": "ipython",
    "version": 3
   },
   "file_extension": ".py",
   "mimetype": "text/x-python",
   "name": "python",
   "nbconvert_exporter": "python",
   "pygments_lexer": "ipython3",
   "version": "3.9.12"
  }
 },
 "nbformat": 4,
 "nbformat_minor": 5
}
